{
 "cells": [
  {
   "cell_type": "markdown",
   "id": "1a3a7031",
   "metadata": {},
   "source": [
    "# Customer Analysis\n",
    "The aim of this notebook is to analyse customer data for a fictional store and answer various questions which will help the store increase and optimise their sales"
   ]
  },
  {
   "cell_type": "markdown",
   "id": "40581a62",
   "metadata": {},
   "source": [
    "### Importing Packages"
   ]
  },
  {
   "cell_type": "code",
   "execution_count": 2,
   "id": "9931ef99",
   "metadata": {},
   "outputs": [],
   "source": [
    "import numpy as np\n",
    "import pandas as pd\n",
    "import matplotlib.pyplot as plt\n",
    "import seaborn as sns"
   ]
  },
  {
   "cell_type": "markdown",
   "id": "c6ea0267",
   "metadata": {},
   "source": [
    "### Importing Data"
   ]
  },
  {
   "cell_type": "code",
   "execution_count": 3,
   "id": "f35a0f7c",
   "metadata": {},
   "outputs": [
    {
     "data": {
      "text/html": [
       "<div>\n",
       "<style scoped>\n",
       "    .dataframe tbody tr th:only-of-type {\n",
       "        vertical-align: middle;\n",
       "    }\n",
       "\n",
       "    .dataframe tbody tr th {\n",
       "        vertical-align: top;\n",
       "    }\n",
       "\n",
       "    .dataframe thead th {\n",
       "        text-align: right;\n",
       "    }\n",
       "</style>\n",
       "<table border=\"1\" class=\"dataframe\">\n",
       "  <thead>\n",
       "    <tr style=\"text-align: right;\">\n",
       "      <th></th>\n",
       "      <th>Customer</th>\n",
       "      <th>State</th>\n",
       "      <th>Customer Lifetime Value</th>\n",
       "      <th>Response</th>\n",
       "      <th>Coverage</th>\n",
       "      <th>Education</th>\n",
       "      <th>Effective To Date</th>\n",
       "      <th>EmploymentStatus</th>\n",
       "      <th>Gender</th>\n",
       "      <th>Income</th>\n",
       "      <th>...</th>\n",
       "      <th>Months Since Policy Inception</th>\n",
       "      <th>Number of Open Complaints</th>\n",
       "      <th>Number of Policies</th>\n",
       "      <th>Policy Type</th>\n",
       "      <th>Policy</th>\n",
       "      <th>Renew Offer Type</th>\n",
       "      <th>Sales Channel</th>\n",
       "      <th>Total Claim Amount</th>\n",
       "      <th>Vehicle Class</th>\n",
       "      <th>Vehicle Size</th>\n",
       "    </tr>\n",
       "  </thead>\n",
       "  <tbody>\n",
       "    <tr>\n",
       "      <th>0</th>\n",
       "      <td>BU79786</td>\n",
       "      <td>Washington</td>\n",
       "      <td>2763.519279</td>\n",
       "      <td>No</td>\n",
       "      <td>Basic</td>\n",
       "      <td>Bachelor</td>\n",
       "      <td>2/24/11</td>\n",
       "      <td>Employed</td>\n",
       "      <td>F</td>\n",
       "      <td>56274</td>\n",
       "      <td>...</td>\n",
       "      <td>5</td>\n",
       "      <td>0</td>\n",
       "      <td>1</td>\n",
       "      <td>Corporate Auto</td>\n",
       "      <td>Corporate L3</td>\n",
       "      <td>Offer1</td>\n",
       "      <td>Agent</td>\n",
       "      <td>384.811147</td>\n",
       "      <td>Two-Door Car</td>\n",
       "      <td>Medsize</td>\n",
       "    </tr>\n",
       "    <tr>\n",
       "      <th>1</th>\n",
       "      <td>QZ44356</td>\n",
       "      <td>Arizona</td>\n",
       "      <td>6979.535903</td>\n",
       "      <td>No</td>\n",
       "      <td>Extended</td>\n",
       "      <td>Bachelor</td>\n",
       "      <td>1/31/11</td>\n",
       "      <td>Unemployed</td>\n",
       "      <td>F</td>\n",
       "      <td>0</td>\n",
       "      <td>...</td>\n",
       "      <td>42</td>\n",
       "      <td>0</td>\n",
       "      <td>8</td>\n",
       "      <td>Personal Auto</td>\n",
       "      <td>Personal L3</td>\n",
       "      <td>Offer3</td>\n",
       "      <td>Agent</td>\n",
       "      <td>1131.464935</td>\n",
       "      <td>Four-Door Car</td>\n",
       "      <td>Medsize</td>\n",
       "    </tr>\n",
       "    <tr>\n",
       "      <th>2</th>\n",
       "      <td>AI49188</td>\n",
       "      <td>Nevada</td>\n",
       "      <td>12887.431650</td>\n",
       "      <td>No</td>\n",
       "      <td>Premium</td>\n",
       "      <td>Bachelor</td>\n",
       "      <td>2/19/11</td>\n",
       "      <td>Employed</td>\n",
       "      <td>F</td>\n",
       "      <td>48767</td>\n",
       "      <td>...</td>\n",
       "      <td>38</td>\n",
       "      <td>0</td>\n",
       "      <td>2</td>\n",
       "      <td>Personal Auto</td>\n",
       "      <td>Personal L3</td>\n",
       "      <td>Offer1</td>\n",
       "      <td>Agent</td>\n",
       "      <td>566.472247</td>\n",
       "      <td>Two-Door Car</td>\n",
       "      <td>Medsize</td>\n",
       "    </tr>\n",
       "    <tr>\n",
       "      <th>3</th>\n",
       "      <td>WW63253</td>\n",
       "      <td>California</td>\n",
       "      <td>7645.861827</td>\n",
       "      <td>No</td>\n",
       "      <td>Basic</td>\n",
       "      <td>Bachelor</td>\n",
       "      <td>1/20/11</td>\n",
       "      <td>Unemployed</td>\n",
       "      <td>M</td>\n",
       "      <td>0</td>\n",
       "      <td>...</td>\n",
       "      <td>65</td>\n",
       "      <td>0</td>\n",
       "      <td>7</td>\n",
       "      <td>Corporate Auto</td>\n",
       "      <td>Corporate L2</td>\n",
       "      <td>Offer1</td>\n",
       "      <td>Call Center</td>\n",
       "      <td>529.881344</td>\n",
       "      <td>SUV</td>\n",
       "      <td>Medsize</td>\n",
       "    </tr>\n",
       "    <tr>\n",
       "      <th>4</th>\n",
       "      <td>HB64268</td>\n",
       "      <td>Washington</td>\n",
       "      <td>2813.692575</td>\n",
       "      <td>No</td>\n",
       "      <td>Basic</td>\n",
       "      <td>Bachelor</td>\n",
       "      <td>2/3/11</td>\n",
       "      <td>Employed</td>\n",
       "      <td>M</td>\n",
       "      <td>43836</td>\n",
       "      <td>...</td>\n",
       "      <td>44</td>\n",
       "      <td>0</td>\n",
       "      <td>1</td>\n",
       "      <td>Personal Auto</td>\n",
       "      <td>Personal L1</td>\n",
       "      <td>Offer1</td>\n",
       "      <td>Agent</td>\n",
       "      <td>138.130879</td>\n",
       "      <td>Four-Door Car</td>\n",
       "      <td>Medsize</td>\n",
       "    </tr>\n",
       "  </tbody>\n",
       "</table>\n",
       "<p>5 rows × 24 columns</p>\n",
       "</div>"
      ],
      "text/plain": [
       "  Customer       State  Customer Lifetime Value Response  Coverage Education  \\\n",
       "0  BU79786  Washington              2763.519279       No     Basic  Bachelor   \n",
       "1  QZ44356     Arizona              6979.535903       No  Extended  Bachelor   \n",
       "2  AI49188      Nevada             12887.431650       No   Premium  Bachelor   \n",
       "3  WW63253  California              7645.861827       No     Basic  Bachelor   \n",
       "4  HB64268  Washington              2813.692575       No     Basic  Bachelor   \n",
       "\n",
       "  Effective To Date EmploymentStatus Gender  Income  ...  \\\n",
       "0           2/24/11         Employed      F   56274  ...   \n",
       "1           1/31/11       Unemployed      F       0  ...   \n",
       "2           2/19/11         Employed      F   48767  ...   \n",
       "3           1/20/11       Unemployed      M       0  ...   \n",
       "4            2/3/11         Employed      M   43836  ...   \n",
       "\n",
       "  Months Since Policy Inception Number of Open Complaints  Number of Policies  \\\n",
       "0                             5                         0                   1   \n",
       "1                            42                         0                   8   \n",
       "2                            38                         0                   2   \n",
       "3                            65                         0                   7   \n",
       "4                            44                         0                   1   \n",
       "\n",
       "      Policy Type        Policy  Renew Offer Type  Sales Channel  \\\n",
       "0  Corporate Auto  Corporate L3            Offer1          Agent   \n",
       "1   Personal Auto   Personal L3            Offer3          Agent   \n",
       "2   Personal Auto   Personal L3            Offer1          Agent   \n",
       "3  Corporate Auto  Corporate L2            Offer1    Call Center   \n",
       "4   Personal Auto   Personal L1            Offer1          Agent   \n",
       "\n",
       "  Total Claim Amount  Vehicle Class Vehicle Size  \n",
       "0         384.811147   Two-Door Car      Medsize  \n",
       "1        1131.464935  Four-Door Car      Medsize  \n",
       "2         566.472247   Two-Door Car      Medsize  \n",
       "3         529.881344            SUV      Medsize  \n",
       "4         138.130879  Four-Door Car      Medsize  \n",
       "\n",
       "[5 rows x 24 columns]"
      ]
     },
     "execution_count": 3,
     "metadata": {},
     "output_type": "execute_result"
    }
   ],
   "source": [
    "cust = pd.read_csv('Customer_Purchase-Marketing-Analysis.csv')\n",
    "cust.head()"
   ]
  },
  {
   "cell_type": "code",
   "execution_count": 3,
   "id": "bd628fdc",
   "metadata": {},
   "outputs": [
    {
     "name": "stdout",
     "output_type": "stream",
     "text": [
      "<class 'pandas.core.frame.DataFrame'>\n",
      "RangeIndex: 9134 entries, 0 to 9133\n",
      "Data columns (total 24 columns):\n",
      " #   Column                         Non-Null Count  Dtype  \n",
      "---  ------                         --------------  -----  \n",
      " 0   Customer                       9134 non-null   object \n",
      " 1   State                          9134 non-null   object \n",
      " 2   Customer Lifetime Value        9134 non-null   float64\n",
      " 3   Response                       9134 non-null   object \n",
      " 4   Coverage                       9134 non-null   object \n",
      " 5   Education                      9134 non-null   object \n",
      " 6   Effective To Date              9134 non-null   object \n",
      " 7   EmploymentStatus               9134 non-null   object \n",
      " 8   Gender                         9134 non-null   object \n",
      " 9   Income                         9134 non-null   int64  \n",
      " 10  Location Code                  9134 non-null   object \n",
      " 11  Marital Status                 9134 non-null   object \n",
      " 12  Monthly Premium Auto           9134 non-null   int64  \n",
      " 13  Months Since Last Claim        9134 non-null   int64  \n",
      " 14  Months Since Policy Inception  9134 non-null   int64  \n",
      " 15  Number of Open Complaints      9134 non-null   int64  \n",
      " 16  Number of Policies             9134 non-null   int64  \n",
      " 17  Policy Type                    9134 non-null   object \n",
      " 18  Policy                         9134 non-null   object \n",
      " 19  Renew Offer Type               9134 non-null   object \n",
      " 20  Sales Channel                  9134 non-null   object \n",
      " 21  Total Claim Amount             9134 non-null   float64\n",
      " 22  Vehicle Class                  9134 non-null   object \n",
      " 23  Vehicle Size                   9134 non-null   object \n",
      "dtypes: float64(2), int64(6), object(16)\n",
      "memory usage: 1.7+ MB\n"
     ]
    }
   ],
   "source": [
    "cust.info()"
   ]
  },
  {
   "cell_type": "markdown",
   "id": "fdc48ba2",
   "metadata": {},
   "source": [
    "### Removing Columns That Are Not Required:"
   ]
  },
  {
   "cell_type": "code",
   "execution_count": 4,
   "id": "a965705e",
   "metadata": {},
   "outputs": [
    {
     "data": {
      "text/html": [
       "<div>\n",
       "<style scoped>\n",
       "    .dataframe tbody tr th:only-of-type {\n",
       "        vertical-align: middle;\n",
       "    }\n",
       "\n",
       "    .dataframe tbody tr th {\n",
       "        vertical-align: top;\n",
       "    }\n",
       "\n",
       "    .dataframe thead th {\n",
       "        text-align: right;\n",
       "    }\n",
       "</style>\n",
       "<table border=\"1\" class=\"dataframe\">\n",
       "  <thead>\n",
       "    <tr style=\"text-align: right;\">\n",
       "      <th></th>\n",
       "      <th>Customer</th>\n",
       "      <th>Response</th>\n",
       "      <th>Coverage</th>\n",
       "      <th>Gender</th>\n",
       "      <th>Income</th>\n",
       "      <th>Marital Status</th>\n",
       "      <th>Policy Type</th>\n",
       "      <th>Policy</th>\n",
       "      <th>Renew Offer Type</th>\n",
       "      <th>Sales Channel</th>\n",
       "      <th>Vehicle Class</th>\n",
       "      <th>Vehicle Size</th>\n",
       "    </tr>\n",
       "  </thead>\n",
       "  <tbody>\n",
       "    <tr>\n",
       "      <th>0</th>\n",
       "      <td>BU79786</td>\n",
       "      <td>No</td>\n",
       "      <td>Basic</td>\n",
       "      <td>F</td>\n",
       "      <td>56274</td>\n",
       "      <td>Married</td>\n",
       "      <td>Corporate Auto</td>\n",
       "      <td>Corporate L3</td>\n",
       "      <td>Offer1</td>\n",
       "      <td>Agent</td>\n",
       "      <td>Two-Door Car</td>\n",
       "      <td>Medsize</td>\n",
       "    </tr>\n",
       "    <tr>\n",
       "      <th>1</th>\n",
       "      <td>QZ44356</td>\n",
       "      <td>No</td>\n",
       "      <td>Extended</td>\n",
       "      <td>F</td>\n",
       "      <td>0</td>\n",
       "      <td>Single</td>\n",
       "      <td>Personal Auto</td>\n",
       "      <td>Personal L3</td>\n",
       "      <td>Offer3</td>\n",
       "      <td>Agent</td>\n",
       "      <td>Four-Door Car</td>\n",
       "      <td>Medsize</td>\n",
       "    </tr>\n",
       "    <tr>\n",
       "      <th>2</th>\n",
       "      <td>AI49188</td>\n",
       "      <td>No</td>\n",
       "      <td>Premium</td>\n",
       "      <td>F</td>\n",
       "      <td>48767</td>\n",
       "      <td>Married</td>\n",
       "      <td>Personal Auto</td>\n",
       "      <td>Personal L3</td>\n",
       "      <td>Offer1</td>\n",
       "      <td>Agent</td>\n",
       "      <td>Two-Door Car</td>\n",
       "      <td>Medsize</td>\n",
       "    </tr>\n",
       "    <tr>\n",
       "      <th>3</th>\n",
       "      <td>WW63253</td>\n",
       "      <td>No</td>\n",
       "      <td>Basic</td>\n",
       "      <td>M</td>\n",
       "      <td>0</td>\n",
       "      <td>Married</td>\n",
       "      <td>Corporate Auto</td>\n",
       "      <td>Corporate L2</td>\n",
       "      <td>Offer1</td>\n",
       "      <td>Call Center</td>\n",
       "      <td>SUV</td>\n",
       "      <td>Medsize</td>\n",
       "    </tr>\n",
       "    <tr>\n",
       "      <th>4</th>\n",
       "      <td>HB64268</td>\n",
       "      <td>No</td>\n",
       "      <td>Basic</td>\n",
       "      <td>M</td>\n",
       "      <td>43836</td>\n",
       "      <td>Single</td>\n",
       "      <td>Personal Auto</td>\n",
       "      <td>Personal L1</td>\n",
       "      <td>Offer1</td>\n",
       "      <td>Agent</td>\n",
       "      <td>Four-Door Car</td>\n",
       "      <td>Medsize</td>\n",
       "    </tr>\n",
       "  </tbody>\n",
       "</table>\n",
       "</div>"
      ],
      "text/plain": [
       "  Customer Response  Coverage Gender  Income Marital Status     Policy Type  \\\n",
       "0  BU79786       No     Basic      F   56274        Married  Corporate Auto   \n",
       "1  QZ44356       No  Extended      F       0         Single   Personal Auto   \n",
       "2  AI49188       No   Premium      F   48767        Married   Personal Auto   \n",
       "3  WW63253       No     Basic      M       0        Married  Corporate Auto   \n",
       "4  HB64268       No     Basic      M   43836         Single   Personal Auto   \n",
       "\n",
       "         Policy Renew Offer Type Sales Channel  Vehicle Class Vehicle Size  \n",
       "0  Corporate L3           Offer1         Agent   Two-Door Car      Medsize  \n",
       "1   Personal L3           Offer3         Agent  Four-Door Car      Medsize  \n",
       "2   Personal L3           Offer1         Agent   Two-Door Car      Medsize  \n",
       "3  Corporate L2           Offer1   Call Center            SUV      Medsize  \n",
       "4   Personal L1           Offer1         Agent  Four-Door Car      Medsize  "
      ]
     },
     "execution_count": 4,
     "metadata": {},
     "output_type": "execute_result"
    }
   ],
   "source": [
    "cust.drop(['State', 'Customer Lifetime Value', 'Education', 'Effective To Date', 'EmploymentStatus', 'Location Code', 'Monthly Premium Auto', 'Months Since Last Claim', 'Months Since Policy Inception', 'Number of Open Complaints', 'Number of Policies', 'Total Claim Amount'], axis = 1, inplace = True)\n",
    "cust.head()"
   ]
  },
  {
   "cell_type": "markdown",
   "id": "8941c94c",
   "metadata": {},
   "source": [
    "### Checking for Na"
   ]
  },
  {
   "cell_type": "code",
   "execution_count": 83,
   "id": "e4da3efc",
   "metadata": {},
   "outputs": [
    {
     "data": {
      "text/html": [
       "<div>\n",
       "<style scoped>\n",
       "    .dataframe tbody tr th:only-of-type {\n",
       "        vertical-align: middle;\n",
       "    }\n",
       "\n",
       "    .dataframe tbody tr th {\n",
       "        vertical-align: top;\n",
       "    }\n",
       "\n",
       "    .dataframe thead th {\n",
       "        text-align: right;\n",
       "    }\n",
       "</style>\n",
       "<table border=\"1\" class=\"dataframe\">\n",
       "  <thead>\n",
       "    <tr style=\"text-align: right;\">\n",
       "      <th></th>\n",
       "      <th>Customer</th>\n",
       "      <th>Response</th>\n",
       "      <th>Coverage</th>\n",
       "      <th>Gender</th>\n",
       "      <th>Income</th>\n",
       "      <th>Marital Status</th>\n",
       "      <th>Policy Type</th>\n",
       "      <th>Policy</th>\n",
       "      <th>Renew Offer Type</th>\n",
       "      <th>Sales Channel</th>\n",
       "      <th>Vehicle Class</th>\n",
       "      <th>Vehicle Size</th>\n",
       "      <th>Count</th>\n",
       "      <th>Offer Code</th>\n",
       "    </tr>\n",
       "  </thead>\n",
       "  <tbody>\n",
       "  </tbody>\n",
       "</table>\n",
       "</div>"
      ],
      "text/plain": [
       "Empty DataFrame\n",
       "Columns: [Customer, Response, Coverage, Gender, Income, Marital Status, Policy Type, Policy, Renew Offer Type, Sales Channel, Vehicle Class, Vehicle Size, Count, Offer Code]\n",
       "Index: []"
      ]
     },
     "execution_count": 83,
     "metadata": {},
     "output_type": "execute_result"
    }
   ],
   "source": [
    "cust[cust.isna().any(axis = 1)]"
   ]
  },
  {
   "cell_type": "markdown",
   "id": "900d6b18",
   "metadata": {},
   "source": [
    "### Overall Engagement Rate"
   ]
  },
  {
   "cell_type": "code",
   "execution_count": 9,
   "id": "df9325e7",
   "metadata": {},
   "outputs": [
    {
     "data": {
      "text/html": [
       "<div>\n",
       "<style scoped>\n",
       "    .dataframe tbody tr th:only-of-type {\n",
       "        vertical-align: middle;\n",
       "    }\n",
       "\n",
       "    .dataframe tbody tr th {\n",
       "        vertical-align: top;\n",
       "    }\n",
       "\n",
       "    .dataframe thead th {\n",
       "        text-align: right;\n",
       "    }\n",
       "</style>\n",
       "<table border=\"1\" class=\"dataframe\">\n",
       "  <thead>\n",
       "    <tr style=\"text-align: right;\">\n",
       "      <th></th>\n",
       "      <th>Income</th>\n",
       "      <th>Count</th>\n",
       "      <th>Offer Code</th>\n",
       "    </tr>\n",
       "    <tr>\n",
       "      <th>Response</th>\n",
       "      <th></th>\n",
       "      <th></th>\n",
       "      <th></th>\n",
       "    </tr>\n",
       "  </thead>\n",
       "  <tbody>\n",
       "    <tr>\n",
       "      <th>No</th>\n",
       "      <td>293546921</td>\n",
       "      <td>7826</td>\n",
       "      <td>15944</td>\n",
       "    </tr>\n",
       "    <tr>\n",
       "      <th>Yes</th>\n",
       "      <td>50415588</td>\n",
       "      <td>1308</td>\n",
       "      <td>2052</td>\n",
       "    </tr>\n",
       "  </tbody>\n",
       "</table>\n",
       "</div>"
      ],
      "text/plain": [
       "             Income  Count  Offer Code\n",
       "Response                              \n",
       "No        293546921   7826       15944\n",
       "Yes        50415588   1308        2052"
      ]
     },
     "execution_count": 9,
     "metadata": {},
     "output_type": "execute_result"
    }
   ],
   "source": [
    "eng = cust.groupby(['Response']).sum()\n",
    "eng.head()"
   ]
  },
  {
   "cell_type": "code",
   "execution_count": 10,
   "id": "a5f04ac5",
   "metadata": {},
   "outputs": [
    {
     "data": {
      "text/plain": [
       "Text(0.5, 1.0, 'Engagement Rate')"
      ]
     },
     "execution_count": 10,
     "metadata": {},
     "output_type": "execute_result"
    },
    {
     "data": {
      "image/png": "[encoded data removed]",
      "text/plain": [
       "<Figure size 432x288 with 1 Axes>"
      ]
     },
     "metadata": {
      "needs_background": "light"
     },
     "output_type": "display_data"
    }
   ],
   "source": [
    "eng['Count'].plot(kind = 'bar', color = 'gold')\n",
    "plt.xticks(rotation = 'horizontal')\n",
    "plt.ylabel('No. of Responses')\n",
    "plt.title('Engagement Rate')"
   ]
  },
  {
   "cell_type": "markdown",
   "id": "91a12af0",
   "metadata": {},
   "source": [
    "### Engagement Rate by Offer Type"
   ]
  },
  {
   "cell_type": "code",
   "execution_count": 16,
   "id": "c7051e57",
   "metadata": {},
   "outputs": [],
   "source": [
    "eng_by_offer = cust[cust['Response'] == 'Yes'].groupby('Renew Offer Type').count()['Customer'] * 100/(cust[cust['Response'] == 'Yes'].groupby('Renew Offer Type').count()['Customer'] + cust[cust['Response'] == 'No'].groupby('Renew Offer Type').count()['Customer'])"
   ]
  },
  {
   "cell_type": "code",
   "execution_count": 37,
   "id": "afabbd96",
   "metadata": {},
   "outputs": [
    {
     "data": {
      "text/plain": [
       "Text(0.5, 1.0, 'Engagement Rate by Offer')"
      ]
     },
     "execution_count": 37,
     "metadata": {},
     "output_type": "execute_result"
    },
    {
     "data": {
      "image/png": "[encoded data removed]",
      "text/plain": [
       "<Figure size 432x288 with 1 Axes>"
      ]
     },
     "metadata": {
      "needs_background": "light"
     },
     "output_type": "display_data"
    }
   ],
   "source": [
    "eng_by_offer.plot(kind = 'bar', color = 'crimson')\n",
    "plt.xticks(rotation = 0)\n",
    "plt.ylabel('% Responding \"Yes\"')\n",
    "plt.title('Engagement Rate by Offer')"
   ]
  },
  {
   "cell_type": "markdown",
   "id": "445ef6e9",
   "metadata": {},
   "source": [
    "Most \"Yes\" responses come from people who accept Offer 1 or Offer 2. Very few people with Offer 3 said \"Yes\" while no one who chose Offer 4 responded with a \"Yes\""
   ]
  },
  {
   "cell_type": "markdown",
   "id": "43758e1a",
   "metadata": {},
   "source": [
    "### Offer Type and Vehicle Class"
   ]
  },
  {
   "cell_type": "code",
   "execution_count": 33,
   "id": "95896bb1",
   "metadata": {},
   "outputs": [],
   "source": [
    "offv1 = cust[cust['Renew Offer Type'] == 'Offer1'].groupby('Vehicle Class').count()['Customer']"
   ]
  },
  {
   "cell_type": "code",
   "execution_count": 44,
   "id": "1e3872e5",
   "metadata": {},
   "outputs": [
    {
     "data": {
      "text/plain": [
       "Text(0.5, 1.0, 'Offer 1 by Vehicle Class')"
      ]
     },
     "execution_count": 44,
     "metadata": {},
     "output_type": "execute_result"
    },
    {
     "data": {
      "image/png": "[encoded data removed]",
      "text/plain": [
       "<Figure size 432x288 with 1 Axes>"
      ]
     },
     "metadata": {
      "needs_background": "light"
     },
     "output_type": "display_data"
    }
   ],
   "source": [
    "offv1.plot(kind = 'bar', color = 'limegreen')\n",
    "plt.xticks(rotation = 45)\n",
    "plt.ylabel('No. of People Taking Offer 1')\n",
    "plt.title('Offer 1 by Vehicle Class')"
   ]
  },
  {
   "cell_type": "code",
   "execution_count": 39,
   "id": "48e34f7a",
   "metadata": {},
   "outputs": [],
   "source": [
    "offv2 = cust[cust['Renew Offer Type'] == 'Offer2'].groupby('Vehicle Class').count()['Customer']"
   ]
  },
  {
   "cell_type": "code",
   "execution_count": 43,
   "id": "3a742884",
   "metadata": {},
   "outputs": [
    {
     "data": {
      "text/plain": [
       "Text(0.5, 1.0, 'Offer 2 by Vehicle Class')"
      ]
     },
     "execution_count": 43,
     "metadata": {},
     "output_type": "execute_result"
    },
    {
     "data": {
      "image/png": "[encoded data removed]",
      "text/plain": [
       "<Figure size 432x288 with 1 Axes>"
      ]
     },
     "metadata": {
      "needs_background": "light"
     },
     "output_type": "display_data"
    }
   ],
   "source": [
    "offv2.plot(kind = 'bar', color = 'limegreen')\n",
    "plt.xticks(rotation = 45)\n",
    "plt.ylabel('No. of People Taking Offer 2')\n",
    "plt.title('Offer 2 by Vehicle Class')"
   ]
  },
  {
   "cell_type": "code",
   "execution_count": 40,
   "id": "3a097e99",
   "metadata": {},
   "outputs": [],
   "source": [
    "offv3 = cust[cust['Renew Offer Type'] == 'Offer3'].groupby('Vehicle Class').count()['Customer']"
   ]
  },
  {
   "cell_type": "code",
   "execution_count": 45,
   "id": "f4fb11d4",
   "metadata": {},
   "outputs": [
    {
     "data": {
      "text/plain": [
       "Text(0.5, 1.0, 'Offer 3 by Vehicle Class')"
      ]
     },
     "execution_count": 45,
     "metadata": {},
     "output_type": "execute_result"
    },
    {
     "data": {
      "image/png": "[encoded data removed]",
      "text/plain": [
       "<Figure size 432x288 with 1 Axes>"
      ]
     },
     "metadata": {
      "needs_background": "light"
     },
     "output_type": "display_data"
    }
   ],
   "source": [
    "offv3.plot(kind = 'bar', color = 'limegreen')\n",
    "plt.xticks(rotation = 45)\n",
    "plt.ylabel('No. of People Taking Offer 3')\n",
    "plt.title('Offer 3 by Vehicle Class')"
   ]
  },
  {
   "cell_type": "code",
   "execution_count": 41,
   "id": "daf52860",
   "metadata": {},
   "outputs": [],
   "source": [
    "offv4 = cust[cust['Renew Offer Type'] == 'Offer4'].groupby('Vehicle Class').count()['Customer']"
   ]
  },
  {
   "cell_type": "code",
   "execution_count": 54,
   "id": "12bc2200",
   "metadata": {},
   "outputs": [
    {
     "data": {
      "text/plain": [
       "Text(0.5, 1.0, 'Offer 4 by Vehicle Class')"
      ]
     },
     "execution_count": 54,
     "metadata": {},
     "output_type": "execute_result"
    },
    {
     "data": {
      "image/png": "[encoded data removed]",
      "text/plain": [
       "<Figure size 432x288 with 1 Axes>"
      ]
     },
     "metadata": {
      "needs_background": "light"
     },
     "output_type": "display_data"
    }
   ],
   "source": [
    "offv4.plot(kind = 'bar', color = 'limegreen')\n",
    "plt.xticks(rotation = 45)\n",
    "plt.ylabel('No. of People Taking Offer 4')\n",
    "plt.title('Offer 4 by Vehicle Class')"
   ]
  },
  {
   "cell_type": "code",
   "execution_count": 86,
   "id": "7e0bf792",
   "metadata": {},
   "outputs": [
    {
     "data": {
      "text/plain": [
       "Text(0.5, 1.0, 'Vehicle Class and Offer Type')"
      ]
     },
     "execution_count": 86,
     "metadata": {},
     "output_type": "execute_result"
    },
    {
     "data": {
      "image/png": "[encoded data removed]",
      "text/plain": [
       "<Figure size 455.375x360 with 1 Axes>"
      ]
     },
     "metadata": {
      "needs_background": "light"
     },
     "output_type": "display_data"
    }
   ],
   "source": [
    "sns.catplot(data=cust,kind='count',x='Vehicle Class',hue='Renew Offer Type')\n",
    "plt.xticks(rotation = 'vertical')\n",
    "plt.title('Vehicle Class and Offer Type')"
   ]
  },
  {
   "cell_type": "markdown",
   "id": "9bcc22c9",
   "metadata": {},
   "source": [
    "Most People Accept Offer 1 and Offer 2. Majority of people renewing their offers own two door or 4 door cars. People with high-end cars constitute a very small proportion of people renewing their offers"
   ]
  },
  {
   "cell_type": "markdown",
   "id": "da3a7f3d",
   "metadata": {},
   "source": [
    "### Engagement Rate by Sales Channel"
   ]
  },
  {
   "cell_type": "code",
   "execution_count": 51,
   "id": "bb2f6090",
   "metadata": {},
   "outputs": [],
   "source": [
    "eng_by_channel = cust[cust['Response'] == 'Yes'].groupby('Sales Channel').count()['Customer'] * 100/(cust[cust['Response'] == 'Yes'].groupby('Sales Channel').count()['Customer'] + cust[cust['Response'] == 'No'].groupby('Sales Channel').count()['Customer'])"
   ]
  },
  {
   "cell_type": "code",
   "execution_count": 53,
   "id": "d2653487",
   "metadata": {},
   "outputs": [
    {
     "data": {
      "text/plain": [
       "(array([0, 1, 2, 3]),\n",
       " [Text(0, 0, 'Agent'),\n",
       "  Text(1, 0, 'Branch'),\n",
       "  Text(2, 0, 'Call Center'),\n",
       "  Text(3, 0, 'Web')])"
      ]
     },
     "execution_count": 53,
     "metadata": {},
     "output_type": "execute_result"
    },
    {
     "data": {
      "image/png": "[encoded data removed]",
      "text/plain": [
       "<Figure size 432x288 with 1 Axes>"
      ]
     },
     "metadata": {
      "needs_background": "light"
     },
     "output_type": "display_data"
    }
   ],
   "source": [
    "eng_by_channel.plot(kind = 'bar', color = 'violet')\n",
    "plt.xticks(rotation = 0)"
   ]
  },
  {
   "cell_type": "markdown",
   "id": "a24d0f4e",
   "metadata": {},
   "source": [
    "Highest success rate is through agents so more agents should be hired."
   ]
  },
  {
   "cell_type": "markdown",
   "id": "efb26c2f",
   "metadata": {},
   "source": [
    "### Sales Channel And Vehicle Size"
   ]
  },
  {
   "cell_type": "code",
   "execution_count": 64,
   "id": "b9892a5b",
   "metadata": {},
   "outputs": [
    {
     "data": {
      "text/plain": [
       "Medsize    6424\n",
       "Small      1764\n",
       "Large       946\n",
       "Name: Vehicle Size, dtype: int64"
      ]
     },
     "execution_count": 64,
     "metadata": {},
     "output_type": "execute_result"
    }
   ],
   "source": [
    "cust['Vehicle Size'].value_counts()"
   ]
  },
  {
   "cell_type": "code",
   "execution_count": 67,
   "id": "8d2a9cad",
   "metadata": {},
   "outputs": [],
   "source": [
    "smallchannel = cust[cust['Vehicle Size'] == 'Small'].groupby('Sales Channel').count()['Customer']"
   ]
  },
  {
   "cell_type": "code",
   "execution_count": 72,
   "id": "d50bf41d",
   "metadata": {},
   "outputs": [
    {
     "data": {
      "text/plain": [
       "Text(0.5, 1.0, 'Sales Channel Chosen by People with Small Vehicles')"
      ]
     },
     "execution_count": 72,
     "metadata": {},
     "output_type": "execute_result"
    },
    {
     "data": {
      "image/png": "[encoded data removed]",
      "text/plain": [
       "<Figure size 432x288 with 1 Axes>"
      ]
     },
     "metadata": {
      "needs_background": "light"
     },
     "output_type": "display_data"
    }
   ],
   "source": [
    "smallchannel.plot(kind = 'bar', color = 'aqua')\n",
    "plt.xticks(rotation = 0)\n",
    "plt.ylabel('No. of People')\n",
    "plt.title('Sales Channel Chosen by People with Small Vehicles')"
   ]
  },
  {
   "cell_type": "code",
   "execution_count": 73,
   "id": "4b875ca7",
   "metadata": {},
   "outputs": [],
   "source": [
    "medchannel = cust[cust['Vehicle Size'] == 'Medsize'].groupby('Sales Channel').count()['Customer']"
   ]
  },
  {
   "cell_type": "code",
   "execution_count": 76,
   "id": "5823dc4f",
   "metadata": {},
   "outputs": [
    {
     "data": {
      "text/plain": [
       "Text(0.5, 1.0, 'Sales Channel Chosen by People with Medium Size Vehicles')"
      ]
     },
     "execution_count": 76,
     "metadata": {},
     "output_type": "execute_result"
    },
    {
     "data": {
      "image/png": "[encoded data removed]",
      "text/plain": [
       "<Figure size 432x288 with 1 Axes>"
      ]
     },
     "metadata": {
      "needs_background": "light"
     },
     "output_type": "display_data"
    }
   ],
   "source": [
    "medchannel.plot(kind = 'bar', color = 'aqua')\n",
    "plt.xticks(rotation = 0)\n",
    "plt.ylabel('No. of People')\n",
    "plt.title('Sales Channel Chosen by People with Medium Size Vehicles')"
   ]
  },
  {
   "cell_type": "code",
   "execution_count": 77,
   "id": "36bd7126",
   "metadata": {},
   "outputs": [],
   "source": [
    "largechannel = cust[cust['Vehicle Size'] == 'Large'].groupby('Sales Channel').count()['Customer']"
   ]
  },
  {
   "cell_type": "code",
   "execution_count": 79,
   "id": "6f006049",
   "metadata": {},
   "outputs": [
    {
     "data": {
      "text/plain": [
       "Text(0.5, 1.0, 'Sales Channel Chosen by People with Large Vehicles')"
      ]
     },
     "execution_count": 79,
     "metadata": {},
     "output_type": "execute_result"
    },
    {
     "data": {
      "image/png": "[encoded data removed]",
      "text/plain": [
       "<Figure size 432x288 with 1 Axes>"
      ]
     },
     "metadata": {
      "needs_background": "light"
     },
     "output_type": "display_data"
    }
   ],
   "source": [
    "largechannel.plot(kind = 'bar', color = 'aqua')\n",
    "plt.xticks(rotation = 0)\n",
    "plt.ylabel('No. of People')\n",
    "plt.title('Sales Channel Chosen by People with Large Vehicles')"
   ]
  },
  {
   "cell_type": "code",
   "execution_count": 118,
   "id": "1a4cc3fd",
   "metadata": {},
   "outputs": [
    {
     "data": {
      "text/plain": [
       "Text(0.5, 1.0, 'Vehicle Size and Sales Channels')"
      ]
     },
     "execution_count": 118,
     "metadata": {},
     "output_type": "execute_result"
    },
    {
     "data": {
      "image/png": "[encoded data removed]",
      "text/plain": [
       "<Figure size 436.5x360 with 1 Axes>"
      ]
     },
     "metadata": {
      "needs_background": "light"
     },
     "output_type": "display_data"
    }
   ],
   "source": [
    "sns.catplot(data=cust,kind='count',x='Sales Channel',hue='Vehicle Size')\n",
    "plt.xticks(rotation = 'vertical')\n",
    "plt.title('Vehicle Size and Sales Channels')"
   ]
  },
  {
   "cell_type": "markdown",
   "id": "d39447dd",
   "metadata": {},
   "source": [
    "Irrespective of Vehicle Size, Most people choose Agents as their sales channel"
   ]
  }
 ],
 "metadata": {
  "kernelspec": {
   "display_name": "Python 3",
   "language": "python",
   "name": "python3"
  },
  "language_info": {
   "codemirror_mode": {
    "name": "ipython",
    "version": 3
   },
   "file_extension": ".py",
   "mimetype": "text/x-python",
   "name": "python",
   "nbconvert_exporter": "python",
   "pygments_lexer": "ipython3",
   "version": "3.8.8"
  }
 },
 "nbformat": 4,
 "nbformat_minor": 5
}
